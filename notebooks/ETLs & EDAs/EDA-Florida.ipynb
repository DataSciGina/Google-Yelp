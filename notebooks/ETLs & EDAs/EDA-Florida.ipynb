{
 "cells": [
  {
   "cell_type": "markdown",
   "metadata": {},
   "source": [
    "# EDA - Estado de Florida"
   ]
  },
  {
   "cell_type": "markdown",
   "metadata": {},
   "source": [
    "En este archivo se realiza el ETL y el EDA de los archivos en el directorio data/raw/google-maps/reviews-estados/review-Florida."
   ]
  },
  {
   "cell_type": "code",
   "execution_count": 1,
   "metadata": {},
   "outputs": [],
   "source": [
    "import pandas as pd\n",
    "import matplotlib.pyplot as plt\n",
    "import seaborn as sns\n",
    "import warnings\n",
    "import os\n",
    "import sys\n",
    "\n",
    "# Ignorar advertencias\n",
    "warnings.filterwarnings('ignore')"
   ]
  },
  {
   "cell_type": "code",
   "execution_count": null,
   "metadata": {},
   "outputs": [],
   "source": [
    "# Navegar hacia el directorio raíz del proyecto\n",
    "project_root = os.path.abspath(os.path.join(os.getcwd(), '../..'))\n",
    "\n",
    "# Agregar la ruta del proyecto al sys.path para traer librerías personalizadas\n",
    "sys.path.append(project_root)"
   ]
  },
  {
   "cell_type": "code",
   "execution_count": 7,
   "metadata": {},
   "outputs": [],
   "source": [
    "# importar funciones personalizadas en src/utils\n",
    "from src.utils.EDA import merge_files, get_frequency"
   ]
  },
  {
   "cell_type": "markdown",
   "metadata": {},
   "source": [
    "## Extracción de Datos"
   ]
  },
  {
   "cell_type": "code",
   "execution_count": 12,
   "metadata": {},
   "outputs": [
    {
     "name": "stdout",
     "output_type": "stream",
     "text": [
      "Leyendo archivo: d:\\Henry-DataScience\\LABS\\Proyecto Grupal\\Google-Yelp\\data/raw/google_maps/reviews-estados/review-Florida\\1.parquet\n",
      "Archivo 1.parquet leído exitosamente con 150000 registros.\n",
      "Leyendo archivo: d:\\Henry-DataScience\\LABS\\Proyecto Grupal\\Google-Yelp\\data/raw/google_maps/reviews-estados/review-Florida\\10.parquet\n",
      "Archivo 10.parquet leído exitosamente con 150000 registros.\n",
      "Leyendo archivo: d:\\Henry-DataScience\\LABS\\Proyecto Grupal\\Google-Yelp\\data/raw/google_maps/reviews-estados/review-Florida\\11.parquet\n",
      "Archivo 11.parquet leído exitosamente con 150000 registros.\n",
      "Leyendo archivo: d:\\Henry-DataScience\\LABS\\Proyecto Grupal\\Google-Yelp\\data/raw/google_maps/reviews-estados/review-Florida\\12.parquet\n",
      "Archivo 12.parquet leído exitosamente con 150000 registros.\n",
      "Leyendo archivo: d:\\Henry-DataScience\\LABS\\Proyecto Grupal\\Google-Yelp\\data/raw/google_maps/reviews-estados/review-Florida\\13.parquet\n",
      "Archivo 13.parquet leído exitosamente con 150000 registros.\n",
      "Leyendo archivo: d:\\Henry-DataScience\\LABS\\Proyecto Grupal\\Google-Yelp\\data/raw/google_maps/reviews-estados/review-Florida\\14.parquet\n",
      "Archivo 14.parquet leído exitosamente con 150000 registros.\n",
      "Leyendo archivo: d:\\Henry-DataScience\\LABS\\Proyecto Grupal\\Google-Yelp\\data/raw/google_maps/reviews-estados/review-Florida\\15.parquet\n",
      "Archivo 15.parquet leído exitosamente con 150000 registros.\n",
      "Leyendo archivo: d:\\Henry-DataScience\\LABS\\Proyecto Grupal\\Google-Yelp\\data/raw/google_maps/reviews-estados/review-Florida\\16.parquet\n",
      "Archivo 16.parquet leído exitosamente con 150000 registros.\n",
      "Leyendo archivo: d:\\Henry-DataScience\\LABS\\Proyecto Grupal\\Google-Yelp\\data/raw/google_maps/reviews-estados/review-Florida\\17.parquet\n",
      "Archivo 17.parquet leído exitosamente con 150000 registros.\n",
      "Leyendo archivo: d:\\Henry-DataScience\\LABS\\Proyecto Grupal\\Google-Yelp\\data/raw/google_maps/reviews-estados/review-Florida\\18.parquet\n",
      "Archivo 18.parquet leído exitosamente con 150000 registros.\n",
      "Leyendo archivo: d:\\Henry-DataScience\\LABS\\Proyecto Grupal\\Google-Yelp\\data/raw/google_maps/reviews-estados/review-Florida\\19.parquet\n",
      "Archivo 19.parquet leído exitosamente con 150000 registros.\n",
      "Leyendo archivo: d:\\Henry-DataScience\\LABS\\Proyecto Grupal\\Google-Yelp\\data/raw/google_maps/reviews-estados/review-Florida\\2.parquet\n",
      "Archivo 2.parquet leído exitosamente con 150000 registros.\n",
      "Leyendo archivo: d:\\Henry-DataScience\\LABS\\Proyecto Grupal\\Google-Yelp\\data/raw/google_maps/reviews-estados/review-Florida\\3.parquet\n",
      "Archivo 3.parquet leído exitosamente con 150000 registros.\n",
      "Leyendo archivo: d:\\Henry-DataScience\\LABS\\Proyecto Grupal\\Google-Yelp\\data/raw/google_maps/reviews-estados/review-Florida\\4.parquet\n",
      "Archivo 4.parquet leído exitosamente con 150000 registros.\n",
      "Leyendo archivo: d:\\Henry-DataScience\\LABS\\Proyecto Grupal\\Google-Yelp\\data/raw/google_maps/reviews-estados/review-Florida\\5.parquet\n",
      "Archivo 5.parquet leído exitosamente con 150000 registros.\n",
      "Leyendo archivo: d:\\Henry-DataScience\\LABS\\Proyecto Grupal\\Google-Yelp\\data/raw/google_maps/reviews-estados/review-Florida\\6.parquet\n",
      "Archivo 6.parquet leído exitosamente con 150000 registros.\n",
      "Leyendo archivo: d:\\Henry-DataScience\\LABS\\Proyecto Grupal\\Google-Yelp\\data/raw/google_maps/reviews-estados/review-Florida\\7.parquet\n",
      "Archivo 7.parquet leído exitosamente con 150000 registros.\n",
      "Leyendo archivo: d:\\Henry-DataScience\\LABS\\Proyecto Grupal\\Google-Yelp\\data/raw/google_maps/reviews-estados/review-Florida\\8.parquet\n",
      "Archivo 8.parquet leído exitosamente con 150000 registros.\n",
      "Leyendo archivo: d:\\Henry-DataScience\\LABS\\Proyecto Grupal\\Google-Yelp\\data/raw/google_maps/reviews-estados/review-Florida\\9.parquet\n",
      "Archivo 9.parquet leído exitosamente con 150000 registros.\n",
      "Todos los archivos Parquet han sido unificados en un único DataFrame con 2850000 registros.\n"
     ]
    },
    {
     "data": {
      "text/html": [
       "<div>\n",
       "<style scoped>\n",
       "    .dataframe tbody tr th:only-of-type {\n",
       "        vertical-align: middle;\n",
       "    }\n",
       "\n",
       "    .dataframe tbody tr th {\n",
       "        vertical-align: top;\n",
       "    }\n",
       "\n",
       "    .dataframe thead th {\n",
       "        text-align: right;\n",
       "    }\n",
       "</style>\n",
       "<table border=\"1\" class=\"dataframe\">\n",
       "  <thead>\n",
       "    <tr style=\"text-align: right;\">\n",
       "      <th></th>\n",
       "      <th>user_id</th>\n",
       "      <th>name</th>\n",
       "      <th>time</th>\n",
       "      <th>rating</th>\n",
       "      <th>text</th>\n",
       "      <th>pics</th>\n",
       "      <th>resp</th>\n",
       "      <th>gmap_id</th>\n",
       "    </tr>\n",
       "  </thead>\n",
       "  <tbody>\n",
       "    <tr>\n",
       "      <th>0</th>\n",
       "      <td>1.014719e+20</td>\n",
       "      <td>Julie A. Gerber</td>\n",
       "      <td>1628003250740</td>\n",
       "      <td>1</td>\n",
       "      <td>Update: Their “reply” to my review amounted to...</td>\n",
       "      <td>None</td>\n",
       "      <td>{'text': 'Thank you for the feedback. We would...</td>\n",
       "      <td>0x8893863ea87bd5dd:0x9383ebf973e74abb</td>\n",
       "    </tr>\n",
       "    <tr>\n",
       "      <th>1</th>\n",
       "      <td>1.154772e+20</td>\n",
       "      <td>Martin Sheffield</td>\n",
       "      <td>1595031217005</td>\n",
       "      <td>5</td>\n",
       "      <td>He's a knowledgeable doctor but the way he run...</td>\n",
       "      <td>None</td>\n",
       "      <td>{'text': 'Thank you for reaching out. I’m forw...</td>\n",
       "      <td>0x8893863ea87bd5dd:0x9383ebf973e74abb</td>\n",
       "    </tr>\n",
       "    <tr>\n",
       "      <th>2</th>\n",
       "      <td>1.018050e+20</td>\n",
       "      <td>Brian Truett</td>\n",
       "      <td>1522924253567</td>\n",
       "      <td>5</td>\n",
       "      <td>Best doctor I've ever had, I never wait to be ...</td>\n",
       "      <td>None</td>\n",
       "      <td>None</td>\n",
       "      <td>0x8893863ea87bd5dd:0x9383ebf973e74abb</td>\n",
       "    </tr>\n",
       "  </tbody>\n",
       "</table>\n",
       "</div>"
      ],
      "text/plain": [
       "        user_id              name           time  rating  \\\n",
       "0  1.014719e+20   Julie A. Gerber  1628003250740       1   \n",
       "1  1.154772e+20  Martin Sheffield  1595031217005       5   \n",
       "2  1.018050e+20      Brian Truett  1522924253567       5   \n",
       "\n",
       "                                                text  pics  \\\n",
       "0  Update: Their “reply” to my review amounted to...  None   \n",
       "1  He's a knowledgeable doctor but the way he run...  None   \n",
       "2  Best doctor I've ever had, I never wait to be ...  None   \n",
       "\n",
       "                                                resp  \\\n",
       "0  {'text': 'Thank you for the feedback. We would...   \n",
       "1  {'text': 'Thank you for reaching out. I’m forw...   \n",
       "2                                               None   \n",
       "\n",
       "                                 gmap_id  \n",
       "0  0x8893863ea87bd5dd:0x9383ebf973e74abb  \n",
       "1  0x8893863ea87bd5dd:0x9383ebf973e74abb  \n",
       "2  0x8893863ea87bd5dd:0x9383ebf973e74abb  "
      ]
     },
     "execution_count": 12,
     "metadata": {},
     "output_type": "execute_result"
    }
   ],
   "source": [
    "# se guarda el directorio con los datasets en una variable\n",
    "data_dir = os.path.join(project_root, 'data/raw/google_maps/reviews-estados/review-Florida')\n",
    "\n",
    "# se utiliza la función merge_files para unir los archivos en un solo DataFrame\n",
    "florida = merge_files(data_dir)\n",
    "\n",
    "# Se verifica la estructura del DataFrame\n",
    "florida.head(3)"
   ]
  }
 ],
 "metadata": {
  "kernelspec": {
   "display_name": "Python 3",
   "language": "python",
   "name": "python3"
  },
  "language_info": {
   "codemirror_mode": {
    "name": "ipython",
    "version": 3
   },
   "file_extension": ".py",
   "mimetype": "text/x-python",
   "name": "python",
   "nbconvert_exporter": "python",
   "pygments_lexer": "ipython3",
   "version": "3.10.11"
  }
 },
 "nbformat": 4,
 "nbformat_minor": 2
}
