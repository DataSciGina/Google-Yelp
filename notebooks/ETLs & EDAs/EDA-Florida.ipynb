{
 "cells": [
  {
   "cell_type": "markdown",
   "metadata": {},
   "source": [
    "# EDA - Estado de Florida"
   ]
  },
  {
   "cell_type": "markdown",
   "metadata": {},
   "source": [
    "En este archivo se realiza el ETL y el EDA de los archivos en el directorio data/raw/google-maps/reviews-estados/review-Florida. Previamente tendrá que filtrarse con los datos del dataset de metadata-sitios procesado."
   ]
  },
  {
   "cell_type": "code",
   "execution_count": 1,
   "metadata": {},
   "outputs": [],
   "source": [
    "import pandas as pd\n",
    "import matplotlib.pyplot as plt\n",
    "import seaborn as sns\n",
    "import warnings\n",
    "import os\n",
    "import sys\n",
    "\n",
    "# Ignorar advertencias\n",
    "warnings.filterwarnings('ignore')"
   ]
  },
  {
   "cell_type": "code",
   "execution_count": 2,
   "metadata": {},
   "outputs": [],
   "source": [
    "# Navegar hacia el directorio raíz del proyecto\n",
    "project_root = os.path.abspath(os.path.join(os.getcwd(), '../..'))\n",
    "\n",
    "# Agregar la ruta del proyecto al sys.path para traer librerías personalizadas\n",
    "sys.path.append(project_root)"
   ]
  },
  {
   "cell_type": "code",
   "execution_count": 3,
   "metadata": {},
   "outputs": [],
   "source": [
    "# importar funciones personalizadas en src/utils\n",
    "from src.utils.EDA import merge_files, get_frequency"
   ]
  },
  {
   "cell_type": "markdown",
   "metadata": {},
   "source": [
    "## Extracción de Datos"
   ]
  },
  {
   "cell_type": "code",
   "execution_count": 4,
   "metadata": {},
   "outputs": [
    {
     "name": "stdout",
     "output_type": "stream",
     "text": [
      "Leyendo archivo: d:\\Henry-DataScience\\LABS\\Proyecto Grupal\\Google-Yelp\\data/raw/google_maps/reviews-estados/review-Florida\\1.parquet\n",
      "Archivo 1.parquet leído exitosamente con 150000 registros.\n",
      "Leyendo archivo: d:\\Henry-DataScience\\LABS\\Proyecto Grupal\\Google-Yelp\\data/raw/google_maps/reviews-estados/review-Florida\\10.parquet\n",
      "Archivo 10.parquet leído exitosamente con 150000 registros.\n",
      "Leyendo archivo: d:\\Henry-DataScience\\LABS\\Proyecto Grupal\\Google-Yelp\\data/raw/google_maps/reviews-estados/review-Florida\\11.parquet\n",
      "Archivo 11.parquet leído exitosamente con 150000 registros.\n",
      "Leyendo archivo: d:\\Henry-DataScience\\LABS\\Proyecto Grupal\\Google-Yelp\\data/raw/google_maps/reviews-estados/review-Florida\\12.parquet\n",
      "Archivo 12.parquet leído exitosamente con 150000 registros.\n",
      "Leyendo archivo: d:\\Henry-DataScience\\LABS\\Proyecto Grupal\\Google-Yelp\\data/raw/google_maps/reviews-estados/review-Florida\\13.parquet\n",
      "Archivo 13.parquet leído exitosamente con 150000 registros.\n",
      "Leyendo archivo: d:\\Henry-DataScience\\LABS\\Proyecto Grupal\\Google-Yelp\\data/raw/google_maps/reviews-estados/review-Florida\\14.parquet\n",
      "Archivo 14.parquet leído exitosamente con 150000 registros.\n",
      "Leyendo archivo: d:\\Henry-DataScience\\LABS\\Proyecto Grupal\\Google-Yelp\\data/raw/google_maps/reviews-estados/review-Florida\\15.parquet\n",
      "Archivo 15.parquet leído exitosamente con 150000 registros.\n",
      "Leyendo archivo: d:\\Henry-DataScience\\LABS\\Proyecto Grupal\\Google-Yelp\\data/raw/google_maps/reviews-estados/review-Florida\\16.parquet\n",
      "Archivo 16.parquet leído exitosamente con 150000 registros.\n",
      "Leyendo archivo: d:\\Henry-DataScience\\LABS\\Proyecto Grupal\\Google-Yelp\\data/raw/google_maps/reviews-estados/review-Florida\\17.parquet\n",
      "Archivo 17.parquet leído exitosamente con 150000 registros.\n",
      "Leyendo archivo: d:\\Henry-DataScience\\LABS\\Proyecto Grupal\\Google-Yelp\\data/raw/google_maps/reviews-estados/review-Florida\\18.parquet\n",
      "Archivo 18.parquet leído exitosamente con 150000 registros.\n",
      "Leyendo archivo: d:\\Henry-DataScience\\LABS\\Proyecto Grupal\\Google-Yelp\\data/raw/google_maps/reviews-estados/review-Florida\\19.parquet\n",
      "Archivo 19.parquet leído exitosamente con 150000 registros.\n",
      "Leyendo archivo: d:\\Henry-DataScience\\LABS\\Proyecto Grupal\\Google-Yelp\\data/raw/google_maps/reviews-estados/review-Florida\\2.parquet\n",
      "Archivo 2.parquet leído exitosamente con 150000 registros.\n",
      "Leyendo archivo: d:\\Henry-DataScience\\LABS\\Proyecto Grupal\\Google-Yelp\\data/raw/google_maps/reviews-estados/review-Florida\\3.parquet\n",
      "Archivo 3.parquet leído exitosamente con 150000 registros.\n",
      "Leyendo archivo: d:\\Henry-DataScience\\LABS\\Proyecto Grupal\\Google-Yelp\\data/raw/google_maps/reviews-estados/review-Florida\\4.parquet\n",
      "Archivo 4.parquet leído exitosamente con 150000 registros.\n",
      "Leyendo archivo: d:\\Henry-DataScience\\LABS\\Proyecto Grupal\\Google-Yelp\\data/raw/google_maps/reviews-estados/review-Florida\\5.parquet\n",
      "Archivo 5.parquet leído exitosamente con 150000 registros.\n",
      "Leyendo archivo: d:\\Henry-DataScience\\LABS\\Proyecto Grupal\\Google-Yelp\\data/raw/google_maps/reviews-estados/review-Florida\\6.parquet\n",
      "Archivo 6.parquet leído exitosamente con 150000 registros.\n",
      "Leyendo archivo: d:\\Henry-DataScience\\LABS\\Proyecto Grupal\\Google-Yelp\\data/raw/google_maps/reviews-estados/review-Florida\\7.parquet\n",
      "Archivo 7.parquet leído exitosamente con 150000 registros.\n",
      "Leyendo archivo: d:\\Henry-DataScience\\LABS\\Proyecto Grupal\\Google-Yelp\\data/raw/google_maps/reviews-estados/review-Florida\\8.parquet\n",
      "Archivo 8.parquet leído exitosamente con 150000 registros.\n",
      "Leyendo archivo: d:\\Henry-DataScience\\LABS\\Proyecto Grupal\\Google-Yelp\\data/raw/google_maps/reviews-estados/review-Florida\\9.parquet\n",
      "Archivo 9.parquet leído exitosamente con 150000 registros.\n",
      "Todos los archivos Parquet han sido unificados en un único DataFrame con 2850000 registros.\n"
     ]
    },
    {
     "data": {
      "text/html": [
       "<div>\n",
       "<style scoped>\n",
       "    .dataframe tbody tr th:only-of-type {\n",
       "        vertical-align: middle;\n",
       "    }\n",
       "\n",
       "    .dataframe tbody tr th {\n",
       "        vertical-align: top;\n",
       "    }\n",
       "\n",
       "    .dataframe thead th {\n",
       "        text-align: right;\n",
       "    }\n",
       "</style>\n",
       "<table border=\"1\" class=\"dataframe\">\n",
       "  <thead>\n",
       "    <tr style=\"text-align: right;\">\n",
       "      <th></th>\n",
       "      <th>user_id</th>\n",
       "      <th>name</th>\n",
       "      <th>time</th>\n",
       "      <th>rating</th>\n",
       "      <th>text</th>\n",
       "      <th>pics</th>\n",
       "      <th>resp</th>\n",
       "      <th>gmap_id</th>\n",
       "    </tr>\n",
       "  </thead>\n",
       "  <tbody>\n",
       "    <tr>\n",
       "      <th>0</th>\n",
       "      <td>1.014719e+20</td>\n",
       "      <td>Julie A. Gerber</td>\n",
       "      <td>1628003250740</td>\n",
       "      <td>1</td>\n",
       "      <td>Update: Their “reply” to my review amounted to...</td>\n",
       "      <td>None</td>\n",
       "      <td>{'text': 'Thank you for the feedback. We would...</td>\n",
       "      <td>0x8893863ea87bd5dd:0x9383ebf973e74abb</td>\n",
       "    </tr>\n",
       "    <tr>\n",
       "      <th>1</th>\n",
       "      <td>1.154772e+20</td>\n",
       "      <td>Martin Sheffield</td>\n",
       "      <td>1595031217005</td>\n",
       "      <td>5</td>\n",
       "      <td>He's a knowledgeable doctor but the way he run...</td>\n",
       "      <td>None</td>\n",
       "      <td>{'text': 'Thank you for reaching out. I’m forw...</td>\n",
       "      <td>0x8893863ea87bd5dd:0x9383ebf973e74abb</td>\n",
       "    </tr>\n",
       "    <tr>\n",
       "      <th>2</th>\n",
       "      <td>1.018050e+20</td>\n",
       "      <td>Brian Truett</td>\n",
       "      <td>1522924253567</td>\n",
       "      <td>5</td>\n",
       "      <td>Best doctor I've ever had, I never wait to be ...</td>\n",
       "      <td>None</td>\n",
       "      <td>None</td>\n",
       "      <td>0x8893863ea87bd5dd:0x9383ebf973e74abb</td>\n",
       "    </tr>\n",
       "  </tbody>\n",
       "</table>\n",
       "</div>"
      ],
      "text/plain": [
       "        user_id              name           time  rating  \\\n",
       "0  1.014719e+20   Julie A. Gerber  1628003250740       1   \n",
       "1  1.154772e+20  Martin Sheffield  1595031217005       5   \n",
       "2  1.018050e+20      Brian Truett  1522924253567       5   \n",
       "\n",
       "                                                text  pics  \\\n",
       "0  Update: Their “reply” to my review amounted to...  None   \n",
       "1  He's a knowledgeable doctor but the way he run...  None   \n",
       "2  Best doctor I've ever had, I never wait to be ...  None   \n",
       "\n",
       "                                                resp  \\\n",
       "0  {'text': 'Thank you for the feedback. We would...   \n",
       "1  {'text': 'Thank you for reaching out. I’m forw...   \n",
       "2                                               None   \n",
       "\n",
       "                                 gmap_id  \n",
       "0  0x8893863ea87bd5dd:0x9383ebf973e74abb  \n",
       "1  0x8893863ea87bd5dd:0x9383ebf973e74abb  \n",
       "2  0x8893863ea87bd5dd:0x9383ebf973e74abb  "
      ]
     },
     "execution_count": 4,
     "metadata": {},
     "output_type": "execute_result"
    }
   ],
   "source": [
    "# se guarda el directorio con los datasets en una variable\n",
    "data_dir = os.path.join(project_root, 'data/raw/google_maps/reviews-estados/review-Florida')\n",
    "\n",
    "# se utiliza la función merge_files para unir los archivos en un solo DataFrame\n",
    "florida = merge_files(data_dir)\n",
    "\n",
    "# Se verifica la estructura del DataFrame\n",
    "florida.head(3)"
   ]
  },
  {
   "cell_type": "markdown",
   "metadata": {},
   "source": [
    "## Filtrar Reviews de Servicios Gastronómicos"
   ]
  },
  {
   "cell_type": "code",
   "execution_count": 5,
   "metadata": {},
   "outputs": [
    {
     "data": {
      "text/html": [
       "<div>\n",
       "<style scoped>\n",
       "    .dataframe tbody tr th:only-of-type {\n",
       "        vertical-align: middle;\n",
       "    }\n",
       "\n",
       "    .dataframe tbody tr th {\n",
       "        vertical-align: top;\n",
       "    }\n",
       "\n",
       "    .dataframe thead th {\n",
       "        text-align: right;\n",
       "    }\n",
       "</style>\n",
       "<table border=\"1\" class=\"dataframe\">\n",
       "  <thead>\n",
       "    <tr style=\"text-align: right;\">\n",
       "      <th></th>\n",
       "      <th>name</th>\n",
       "      <th>address</th>\n",
       "      <th>gmap_id</th>\n",
       "      <th>latitude</th>\n",
       "      <th>longitude</th>\n",
       "      <th>avg_rating</th>\n",
       "      <th>num_of_reviews</th>\n",
       "      <th>category</th>\n",
       "    </tr>\n",
       "  </thead>\n",
       "  <tbody>\n",
       "    <tr>\n",
       "      <th>0</th>\n",
       "      <td>\"Best Mexican Food in Town\"</td>\n",
       "      <td>\"Best Mexican Food in Town\", 1130 S State St, ...</td>\n",
       "      <td>0x80816451cb67d913:0xa4553d4f3b03ec7</td>\n",
       "      <td>39.135483</td>\n",
       "      <td>-123.205517</td>\n",
       "      <td>4.3</td>\n",
       "      <td>3</td>\n",
       "      <td>[mexican restaurant]</td>\n",
       "    </tr>\n",
       "    <tr>\n",
       "      <th>1</th>\n",
       "      <td>\"Domenica alle Due\" - Robert Anthony's Italian...</td>\n",
       "      <td>\"Domenica alle Due\" - Robert Anthony's Italian...</td>\n",
       "      <td>0x89e843ba6e1a9b9d:0x13f13f31d51ae5ce</td>\n",
       "      <td>40.951891</td>\n",
       "      <td>-72.984564</td>\n",
       "      <td>5.0</td>\n",
       "      <td>8</td>\n",
       "      <td>[italian restaurant]</td>\n",
       "    </tr>\n",
       "    <tr>\n",
       "      <th>2</th>\n",
       "      <td>\"Elotes Y Nachos\" El Toro</td>\n",
       "      <td>\"Elotes Y Nachos\" El Toro, Arlington, TX 76010</td>\n",
       "      <td>0x864e87edad1b6373:0x288178eb4d631ed6</td>\n",
       "      <td>32.718081</td>\n",
       "      <td>-97.079521</td>\n",
       "      <td>4.4</td>\n",
       "      <td>8</td>\n",
       "      <td>[mexican restaurant]</td>\n",
       "    </tr>\n",
       "  </tbody>\n",
       "</table>\n",
       "</div>"
      ],
      "text/plain": [
       "                                                name  \\\n",
       "0                        \"Best Mexican Food in Town\"   \n",
       "1  \"Domenica alle Due\" - Robert Anthony's Italian...   \n",
       "2                          \"Elotes Y Nachos\" El Toro   \n",
       "\n",
       "                                             address  \\\n",
       "0  \"Best Mexican Food in Town\", 1130 S State St, ...   \n",
       "1  \"Domenica alle Due\" - Robert Anthony's Italian...   \n",
       "2     \"Elotes Y Nachos\" El Toro, Arlington, TX 76010   \n",
       "\n",
       "                                 gmap_id   latitude   longitude  avg_rating  \\\n",
       "0   0x80816451cb67d913:0xa4553d4f3b03ec7  39.135483 -123.205517         4.3   \n",
       "1  0x89e843ba6e1a9b9d:0x13f13f31d51ae5ce  40.951891  -72.984564         5.0   \n",
       "2  0x864e87edad1b6373:0x288178eb4d631ed6  32.718081  -97.079521         4.4   \n",
       "\n",
       "   num_of_reviews              category  \n",
       "0               3  [mexican restaurant]  \n",
       "1               8  [italian restaurant]  \n",
       "2               8  [mexican restaurant]  "
      ]
     },
     "execution_count": 5,
     "metadata": {},
     "output_type": "execute_result"
    }
   ],
   "source": [
    "# se guarda el directorio con el datasets de metadata procesado en una variable\n",
    "data_dir = os.path.join(project_root, 'data/processed/google_maps/metadata_final.parquet')\n",
    "\n",
    "# leer parquet y visualizar los primeros elementos\n",
    "metadata = pd.read_parquet(data_dir)\n",
    "metadata.head(3)"
   ]
  },
  {
   "cell_type": "code",
   "execution_count": 26,
   "metadata": {},
   "outputs": [
    {
     "data": {
      "text/plain": [
       "966915"
      ]
     },
     "execution_count": 26,
     "metadata": {},
     "output_type": "execute_result"
    }
   ],
   "source": [
    "# Filtrar los datos de florida donde gmap_id también esté en metadata y mostrar la nueva longitud\n",
    "reviews = florida.merge(metadata, on='gmap_id', how='inner').reset_index()\n",
    "len(reviews)"
   ]
  },
  {
   "cell_type": "markdown",
   "metadata": {},
   "source": [
    "## Eliminar Columnas Innecesarias"
   ]
  },
  {
   "cell_type": "markdown",
   "metadata": {},
   "source": [
    "La columna pics no aporta material para el proyecto."
   ]
  },
  {
   "cell_type": "code",
   "execution_count": null,
   "metadata": {},
   "outputs": [],
   "source": [
    "# eliminar columna pics\n",
    "reviews.drop(columns=['pics'], inplace=True, axis=1)"
   ]
  },
  {
   "cell_type": "markdown",
   "metadata": {},
   "source": [
    "## Visualización de Datos"
   ]
  },
  {
   "cell_type": "markdown",
   "metadata": {},
   "source": [
    "### Vista Rápida\n",
    "Se realiza un breve vistazo de los datos."
   ]
  },
  {
   "cell_type": "code",
   "execution_count": 27,
   "metadata": {},
   "outputs": [
    {
     "name": "stdout",
     "output_type": "stream",
     "text": [
      "<class 'pandas.core.frame.DataFrame'>\n",
      "RangeIndex: 966915 entries, 0 to 966914\n",
      "Data columns (total 16 columns):\n",
      " #   Column          Non-Null Count   Dtype  \n",
      "---  ------          --------------   -----  \n",
      " 0   index           966915 non-null  int64  \n",
      " 1   user_id         966915 non-null  float64\n",
      " 2   name_x          966915 non-null  object \n",
      " 3   time            966915 non-null  int64  \n",
      " 4   rating          966915 non-null  int64  \n",
      " 5   text            589536 non-null  object \n",
      " 6   pics            38512 non-null   object \n",
      " 7   resp            128269 non-null  object \n",
      " 8   gmap_id         966915 non-null  object \n",
      " 9   name_y          966915 non-null  object \n",
      " 10  address         966915 non-null  object \n",
      " 11  latitude        966915 non-null  float64\n",
      " 12  longitude       966915 non-null  float64\n",
      " 13  avg_rating      966915 non-null  float64\n",
      " 14  num_of_reviews  966915 non-null  int64  \n",
      " 15  category        966915 non-null  object \n",
      "dtypes: float64(4), int64(4), object(8)\n",
      "memory usage: 118.0+ MB\n"
     ]
    }
   ],
   "source": [
    "# se verifica la estructura del dataframe filtrado\n",
    "reviews.info()"
   ]
  },
  {
   "cell_type": "code",
   "execution_count": 28,
   "metadata": {},
   "outputs": [
    {
     "data": {
      "text/html": [
       "<div>\n",
       "<style scoped>\n",
       "    .dataframe tbody tr th:only-of-type {\n",
       "        vertical-align: middle;\n",
       "    }\n",
       "\n",
       "    .dataframe tbody tr th {\n",
       "        vertical-align: top;\n",
       "    }\n",
       "\n",
       "    .dataframe thead th {\n",
       "        text-align: right;\n",
       "    }\n",
       "</style>\n",
       "<table border=\"1\" class=\"dataframe\">\n",
       "  <thead>\n",
       "    <tr style=\"text-align: right;\">\n",
       "      <th></th>\n",
       "      <th>index</th>\n",
       "      <th>user_id</th>\n",
       "      <th>time</th>\n",
       "      <th>rating</th>\n",
       "      <th>latitude</th>\n",
       "      <th>longitude</th>\n",
       "      <th>avg_rating</th>\n",
       "      <th>num_of_reviews</th>\n",
       "    </tr>\n",
       "  </thead>\n",
       "  <tbody>\n",
       "    <tr>\n",
       "      <th>count</th>\n",
       "      <td>966915.000000</td>\n",
       "      <td>9.669150e+05</td>\n",
       "      <td>9.669150e+05</td>\n",
       "      <td>966915.000000</td>\n",
       "      <td>966915.000000</td>\n",
       "      <td>966915.000000</td>\n",
       "      <td>966915.000000</td>\n",
       "      <td>966915.000000</td>\n",
       "    </tr>\n",
       "    <tr>\n",
       "      <th>mean</th>\n",
       "      <td>483457.000000</td>\n",
       "      <td>1.092325e+20</td>\n",
       "      <td>1.555531e+12</td>\n",
       "      <td>4.231885</td>\n",
       "      <td>27.942183</td>\n",
       "      <td>-81.749149</td>\n",
       "      <td>4.181574</td>\n",
       "      <td>1693.208494</td>\n",
       "    </tr>\n",
       "    <tr>\n",
       "      <th>std</th>\n",
       "      <td>279124.462104</td>\n",
       "      <td>5.321390e+18</td>\n",
       "      <td>4.053243e+10</td>\n",
       "      <td>1.153122</td>\n",
       "      <td>1.432970</td>\n",
       "      <td>1.460633</td>\n",
       "      <td>0.396660</td>\n",
       "      <td>1405.270670</td>\n",
       "    </tr>\n",
       "    <tr>\n",
       "      <th>min</th>\n",
       "      <td>0.000000</td>\n",
       "      <td>1.000000e+20</td>\n",
       "      <td>1.041379e+12</td>\n",
       "      <td>1.000000</td>\n",
       "      <td>24.550387</td>\n",
       "      <td>-87.333840</td>\n",
       "      <td>1.500000</td>\n",
       "      <td>8.000000</td>\n",
       "    </tr>\n",
       "    <tr>\n",
       "      <th>25%</th>\n",
       "      <td>241728.500000</td>\n",
       "      <td>1.046346e+20</td>\n",
       "      <td>1.529675e+12</td>\n",
       "      <td>4.000000</td>\n",
       "      <td>26.650757</td>\n",
       "      <td>-82.454733</td>\n",
       "      <td>4.000000</td>\n",
       "      <td>778.000000</td>\n",
       "    </tr>\n",
       "    <tr>\n",
       "      <th>50%</th>\n",
       "      <td>483457.000000</td>\n",
       "      <td>1.092259e+20</td>\n",
       "      <td>1.556461e+12</td>\n",
       "      <td>5.000000</td>\n",
       "      <td>28.011572</td>\n",
       "      <td>-81.550936</td>\n",
       "      <td>4.300000</td>\n",
       "      <td>1342.000000</td>\n",
       "    </tr>\n",
       "    <tr>\n",
       "      <th>75%</th>\n",
       "      <td>725185.500000</td>\n",
       "      <td>1.138418e+20</td>\n",
       "      <td>1.581856e+12</td>\n",
       "      <td>5.000000</td>\n",
       "      <td>28.597119</td>\n",
       "      <td>-80.633196</td>\n",
       "      <td>4.500000</td>\n",
       "      <td>2158.000000</td>\n",
       "    </tr>\n",
       "    <tr>\n",
       "      <th>max</th>\n",
       "      <td>966914.000000</td>\n",
       "      <td>1.184467e+20</td>\n",
       "      <td>1.631069e+12</td>\n",
       "      <td>5.000000</td>\n",
       "      <td>30.944799</td>\n",
       "      <td>-80.050159</td>\n",
       "      <td>5.000000</td>\n",
       "      <td>8116.000000</td>\n",
       "    </tr>\n",
       "  </tbody>\n",
       "</table>\n",
       "</div>"
      ],
      "text/plain": [
       "               index       user_id          time         rating  \\\n",
       "count  966915.000000  9.669150e+05  9.669150e+05  966915.000000   \n",
       "mean   483457.000000  1.092325e+20  1.555531e+12       4.231885   \n",
       "std    279124.462104  5.321390e+18  4.053243e+10       1.153122   \n",
       "min         0.000000  1.000000e+20  1.041379e+12       1.000000   \n",
       "25%    241728.500000  1.046346e+20  1.529675e+12       4.000000   \n",
       "50%    483457.000000  1.092259e+20  1.556461e+12       5.000000   \n",
       "75%    725185.500000  1.138418e+20  1.581856e+12       5.000000   \n",
       "max    966914.000000  1.184467e+20  1.631069e+12       5.000000   \n",
       "\n",
       "            latitude      longitude     avg_rating  num_of_reviews  \n",
       "count  966915.000000  966915.000000  966915.000000   966915.000000  \n",
       "mean       27.942183     -81.749149       4.181574     1693.208494  \n",
       "std         1.432970       1.460633       0.396660     1405.270670  \n",
       "min        24.550387     -87.333840       1.500000        8.000000  \n",
       "25%        26.650757     -82.454733       4.000000      778.000000  \n",
       "50%        28.011572     -81.550936       4.300000     1342.000000  \n",
       "75%        28.597119     -80.633196       4.500000     2158.000000  \n",
       "max        30.944799     -80.050159       5.000000     8116.000000  "
      ]
     },
     "execution_count": 28,
     "metadata": {},
     "output_type": "execute_result"
    }
   ],
   "source": [
    "# comprensión de variables numéricas\n",
    "reviews.describe()"
   ]
  },
  {
   "cell_type": "code",
   "execution_count": 29,
   "metadata": {},
   "outputs": [
    {
     "data": {
      "text/html": [
       "<div>\n",
       "<style scoped>\n",
       "    .dataframe tbody tr th:only-of-type {\n",
       "        vertical-align: middle;\n",
       "    }\n",
       "\n",
       "    .dataframe tbody tr th {\n",
       "        vertical-align: top;\n",
       "    }\n",
       "\n",
       "    .dataframe thead th {\n",
       "        text-align: right;\n",
       "    }\n",
       "</style>\n",
       "<table border=\"1\" class=\"dataframe\">\n",
       "  <thead>\n",
       "    <tr style=\"text-align: right;\">\n",
       "      <th></th>\n",
       "      <th>index</th>\n",
       "      <th>user_id</th>\n",
       "      <th>name_x</th>\n",
       "      <th>time</th>\n",
       "      <th>rating</th>\n",
       "      <th>text</th>\n",
       "      <th>pics</th>\n",
       "      <th>resp</th>\n",
       "      <th>gmap_id</th>\n",
       "      <th>name_y</th>\n",
       "      <th>address</th>\n",
       "      <th>latitude</th>\n",
       "      <th>longitude</th>\n",
       "      <th>avg_rating</th>\n",
       "      <th>num_of_reviews</th>\n",
       "      <th>category</th>\n",
       "    </tr>\n",
       "  </thead>\n",
       "  <tbody>\n",
       "    <tr>\n",
       "      <th>0</th>\n",
       "      <td>0</td>\n",
       "      <td>1.089733e+20</td>\n",
       "      <td>Johnny McMuffin</td>\n",
       "      <td>1534506921535</td>\n",
       "      <td>4</td>\n",
       "      <td>Nice little outdoor Tiki Bar at the Holiday In...</td>\n",
       "      <td>[{'url': ['https://lh5.googleusercontent.com/p...</td>\n",
       "      <td>None</td>\n",
       "      <td>0x88d769c187b52953:0xe3ace06a033182f6</td>\n",
       "      <td>Bogie's Cafe</td>\n",
       "      <td>Bogie's Cafe, 99701 Overseas Hwy, Key Largo, F...</td>\n",
       "      <td>25.095637</td>\n",
       "      <td>-80.438401</td>\n",
       "      <td>4.1</td>\n",
       "      <td>8</td>\n",
       "      <td>[american restaurant, american restaurant]</td>\n",
       "    </tr>\n",
       "    <tr>\n",
       "      <th>1</th>\n",
       "      <td>1</td>\n",
       "      <td>1.183531e+20</td>\n",
       "      <td>Jesse Peterson</td>\n",
       "      <td>1564493738143</td>\n",
       "      <td>4</td>\n",
       "      <td>Nice buffet, kitchen staff provided good food....</td>\n",
       "      <td>None</td>\n",
       "      <td>None</td>\n",
       "      <td>0x88d769c187b52953:0xe3ace06a033182f6</td>\n",
       "      <td>Bogie's Cafe</td>\n",
       "      <td>Bogie's Cafe, 99701 Overseas Hwy, Key Largo, F...</td>\n",
       "      <td>25.095637</td>\n",
       "      <td>-80.438401</td>\n",
       "      <td>4.1</td>\n",
       "      <td>8</td>\n",
       "      <td>[american restaurant, american restaurant]</td>\n",
       "    </tr>\n",
       "    <tr>\n",
       "      <th>2</th>\n",
       "      <td>2</td>\n",
       "      <td>1.060498e+20</td>\n",
       "      <td>Art Stadlin</td>\n",
       "      <td>1353454773013</td>\n",
       "      <td>5</td>\n",
       "      <td>We ate a light lunch before our cruise.  Nice ...</td>\n",
       "      <td>None</td>\n",
       "      <td>None</td>\n",
       "      <td>0x88d769c187b52953:0xe3ace06a033182f6</td>\n",
       "      <td>Bogie's Cafe</td>\n",
       "      <td>Bogie's Cafe, 99701 Overseas Hwy, Key Largo, F...</td>\n",
       "      <td>25.095637</td>\n",
       "      <td>-80.438401</td>\n",
       "      <td>4.1</td>\n",
       "      <td>8</td>\n",
       "      <td>[american restaurant, american restaurant]</td>\n",
       "    </tr>\n",
       "  </tbody>\n",
       "</table>\n",
       "</div>"
      ],
      "text/plain": [
       "   index       user_id           name_x           time  rating  \\\n",
       "0      0  1.089733e+20  Johnny McMuffin  1534506921535       4   \n",
       "1      1  1.183531e+20   Jesse Peterson  1564493738143       4   \n",
       "2      2  1.060498e+20      Art Stadlin  1353454773013       5   \n",
       "\n",
       "                                                text  \\\n",
       "0  Nice little outdoor Tiki Bar at the Holiday In...   \n",
       "1  Nice buffet, kitchen staff provided good food....   \n",
       "2  We ate a light lunch before our cruise.  Nice ...   \n",
       "\n",
       "                                                pics  resp  \\\n",
       "0  [{'url': ['https://lh5.googleusercontent.com/p...  None   \n",
       "1                                               None  None   \n",
       "2                                               None  None   \n",
       "\n",
       "                                 gmap_id        name_y  \\\n",
       "0  0x88d769c187b52953:0xe3ace06a033182f6  Bogie's Cafe   \n",
       "1  0x88d769c187b52953:0xe3ace06a033182f6  Bogie's Cafe   \n",
       "2  0x88d769c187b52953:0xe3ace06a033182f6  Bogie's Cafe   \n",
       "\n",
       "                                             address   latitude  longitude  \\\n",
       "0  Bogie's Cafe, 99701 Overseas Hwy, Key Largo, F...  25.095637 -80.438401   \n",
       "1  Bogie's Cafe, 99701 Overseas Hwy, Key Largo, F...  25.095637 -80.438401   \n",
       "2  Bogie's Cafe, 99701 Overseas Hwy, Key Largo, F...  25.095637 -80.438401   \n",
       "\n",
       "   avg_rating  num_of_reviews                                    category  \n",
       "0         4.1               8  [american restaurant, american restaurant]  \n",
       "1         4.1               8  [american restaurant, american restaurant]  \n",
       "2         4.1               8  [american restaurant, american restaurant]  "
      ]
     },
     "execution_count": 29,
     "metadata": {},
     "output_type": "execute_result"
    }
   ],
   "source": [
    "# visualizar primeras filas\n",
    "reviews.head(3)"
   ]
  },
  {
   "cell_type": "markdown",
   "metadata": {},
   "source": [
    "### Visualización de los Datos"
   ]
  },
  {
   "cell_type": "markdown",
   "metadata": {},
   "source": [
    "#### Distribución General de Calificaciones (rating)\n",
    "Un gráfico de barras para las categorías ayudará a entender las frecuencias y a encontrar las categorías con mayor cantidad de reseñas."
   ]
  },
  {
   "cell_type": "code",
   "execution_count": null,
   "metadata": {},
   "outputs": [
    {
     "data": {
      "image/png": "[encoded data removed]",
      "text/plain": [
       "<Figure size 800x600 with 1 Axes>"
      ]
     },
     "metadata": {},
     "output_type": "display_data"
    }
   ],
   "source": [
    "# Gráfico de barras\n",
    "plt.figure(figsize=(8, 6))\n",
    "sns.countplot(x='rating', data=reviews)\n",
    "plt.title('Distribución de Calificaciones')\n",
    "plt.xlabel('Calificación (Estrellas)')\n",
    "plt.ylabel('Cantidad')\n",
    "plt.show()"
   ]
  },
  {
   "cell_type": "markdown",
   "metadata": {},
   "source": [
    "Puede notarse que la mayoría de los usuarios tienden a calificar con 5 estrellas y que la minoría califica con 2."
   ]
  },
  {
   "cell_type": "markdown",
   "metadata": {},
   "source": [
    "#### Respuesta a Reseñas (resp)\n",
    "Usa un gráfico circular o de barras para la columna resp (donde 1 significa que hubo respuesta y 0 que no la hubo) para visualizar qué tan frecuentemente los locales responden a las reseñas."
   ]
  },
  {
   "cell_type": "code",
   "execution_count": null,
   "metadata": {},
   "outputs": [
    {
     "ename": "AttributeError",
     "evalue": "Rectangle.set() got an unexpected keyword argument 'kind'",
     "output_type": "error",
     "traceback": [
      "\u001b[1;31m---------------------------------------------------------------------------\u001b[0m",
      "\u001b[1;31mAttributeError\u001b[0m                            Traceback (most recent call last)",
      "Cell \u001b[1;32mIn[36], line 5\u001b[0m\n\u001b[0;32m      2\u001b[0m reviews[\u001b[38;5;124m'\u001b[39m\u001b[38;5;124mresp\u001b[39m\u001b[38;5;124m'\u001b[39m] \u001b[38;5;241m=\u001b[39m reviews[\u001b[38;5;124m'\u001b[39m\u001b[38;5;124mresp\u001b[39m\u001b[38;5;124m'\u001b[39m]\u001b[38;5;241m.\u001b[39mnotna()\u001b[38;5;241m.\u001b[39mastype(\u001b[38;5;28mint\u001b[39m)\n\u001b[0;32m      4\u001b[0m plt\u001b[38;5;241m.\u001b[39mfigure(figsize\u001b[38;5;241m=\u001b[39m(\u001b[38;5;241m8\u001b[39m, \u001b[38;5;241m5\u001b[39m))\n\u001b[1;32m----> 5\u001b[0m \u001b[43msns\u001b[49m\u001b[38;5;241;43m.\u001b[39;49m\u001b[43mcountplot\u001b[49m\u001b[43m(\u001b[49m\u001b[43mx\u001b[49m\u001b[38;5;241;43m=\u001b[39;49m\u001b[38;5;124;43m'\u001b[39;49m\u001b[38;5;124;43mresp\u001b[39;49m\u001b[38;5;124;43m'\u001b[39;49m\u001b[43m,\u001b[49m\u001b[43m \u001b[49m\u001b[43mdata\u001b[49m\u001b[38;5;241;43m=\u001b[39;49m\u001b[43mreviews\u001b[49m\u001b[43m,\u001b[49m\u001b[43m \u001b[49m\u001b[43mkind\u001b[49m\u001b[38;5;241;43m=\u001b[39;49m\u001b[38;5;124;43m'\u001b[39;49m\u001b[38;5;124;43mcake\u001b[39;49m\u001b[38;5;124;43m'\u001b[39;49m\u001b[43m)\u001b[49m\n\u001b[0;32m      6\u001b[0m plt\u001b[38;5;241m.\u001b[39mtitle(\u001b[38;5;124m'\u001b[39m\u001b[38;5;124mFrecuencia de Respuesta a Reseñas\u001b[39m\u001b[38;5;124m'\u001b[39m)\n\u001b[0;32m      7\u001b[0m plt\u001b[38;5;241m.\u001b[39mxlabel(\u001b[38;5;124m'\u001b[39m\u001b[38;5;124mRespuesta a la Reseña (1: Sí, 0: No)\u001b[39m\u001b[38;5;124m'\u001b[39m)\n",
      "File \u001b[1;32mc:\\Users\\Eris\\AppData\\Local\\Programs\\Python\\Python310\\lib\\site-packages\\seaborn\\categorical.py:2661\u001b[0m, in \u001b[0;36mcountplot\u001b[1;34m(data, x, y, hue, order, hue_order, orient, color, palette, saturation, fill, hue_norm, stat, width, dodge, gap, log_scale, native_scale, formatter, legend, ax, **kwargs)\u001b[0m\n\u001b[0;32m   2659\u001b[0m saturation \u001b[38;5;241m=\u001b[39m saturation \u001b[38;5;28;01mif\u001b[39;00m fill \u001b[38;5;28;01melse\u001b[39;00m \u001b[38;5;241m1\u001b[39m\n\u001b[0;32m   2660\u001b[0m p\u001b[38;5;241m.\u001b[39mmap_hue(palette\u001b[38;5;241m=\u001b[39mpalette, order\u001b[38;5;241m=\u001b[39mhue_order, norm\u001b[38;5;241m=\u001b[39mhue_norm, saturation\u001b[38;5;241m=\u001b[39msaturation)\n\u001b[1;32m-> 2661\u001b[0m color \u001b[38;5;241m=\u001b[39m \u001b[43m_default_color\u001b[49m\u001b[43m(\u001b[49m\u001b[43max\u001b[49m\u001b[38;5;241;43m.\u001b[39;49m\u001b[43mbar\u001b[49m\u001b[43m,\u001b[49m\u001b[43m \u001b[49m\u001b[43mhue\u001b[49m\u001b[43m,\u001b[49m\u001b[43m \u001b[49m\u001b[43mcolor\u001b[49m\u001b[43m,\u001b[49m\u001b[43m \u001b[49m\u001b[43mkwargs\u001b[49m\u001b[43m,\u001b[49m\u001b[43m \u001b[49m\u001b[43msaturation\u001b[49m\u001b[43m)\u001b[49m\n\u001b[0;32m   2663\u001b[0m count_axis \u001b[38;5;241m=\u001b[39m {\u001b[38;5;124m\"\u001b[39m\u001b[38;5;124mx\u001b[39m\u001b[38;5;124m\"\u001b[39m: \u001b[38;5;124m\"\u001b[39m\u001b[38;5;124my\u001b[39m\u001b[38;5;124m\"\u001b[39m, \u001b[38;5;124m\"\u001b[39m\u001b[38;5;124my\u001b[39m\u001b[38;5;124m\"\u001b[39m: \u001b[38;5;124m\"\u001b[39m\u001b[38;5;124mx\u001b[39m\u001b[38;5;124m\"\u001b[39m}[p\u001b[38;5;241m.\u001b[39morient]\n\u001b[0;32m   2664\u001b[0m \u001b[38;5;28;01mif\u001b[39;00m p\u001b[38;5;241m.\u001b[39minput_format \u001b[38;5;241m==\u001b[39m \u001b[38;5;124m\"\u001b[39m\u001b[38;5;124mwide\u001b[39m\u001b[38;5;124m\"\u001b[39m:\n",
      "File \u001b[1;32mc:\\Users\\Eris\\AppData\\Local\\Programs\\Python\\Python310\\lib\\site-packages\\seaborn\\utils.py:127\u001b[0m, in \u001b[0;36m_default_color\u001b[1;34m(method, hue, color, kws, saturation)\u001b[0m\n\u001b[0;32m    122\u001b[0m     scout\u001b[38;5;241m.\u001b[39mremove()\n\u001b[0;32m    124\u001b[0m \u001b[38;5;28;01melif\u001b[39;00m method\u001b[38;5;241m.\u001b[39m\u001b[38;5;18m__name__\u001b[39m \u001b[38;5;241m==\u001b[39m \u001b[38;5;124m\"\u001b[39m\u001b[38;5;124mbar\u001b[39m\u001b[38;5;124m\"\u001b[39m:\n\u001b[0;32m    125\u001b[0m \n\u001b[0;32m    126\u001b[0m     \u001b[38;5;66;03m# bar() needs masked, not empty data, to generate a patch\u001b[39;00m\n\u001b[1;32m--> 127\u001b[0m     scout, \u001b[38;5;241m=\u001b[39m method([np\u001b[38;5;241m.\u001b[39mnan], [np\u001b[38;5;241m.\u001b[39mnan], \u001b[38;5;241m*\u001b[39m\u001b[38;5;241m*\u001b[39mkws)\n\u001b[0;32m    128\u001b[0m     color \u001b[38;5;241m=\u001b[39m to_rgb(scout\u001b[38;5;241m.\u001b[39mget_facecolor())\n\u001b[0;32m    129\u001b[0m     scout\u001b[38;5;241m.\u001b[39mremove()\n",
      "File \u001b[1;32mc:\\Users\\Eris\\AppData\\Local\\Programs\\Python\\Python310\\lib\\site-packages\\matplotlib\\__init__.py:1486\u001b[0m, in \u001b[0;36m_preprocess_data.<locals>.inner\u001b[1;34m(ax, data, *args, **kwargs)\u001b[0m\n\u001b[0;32m   1483\u001b[0m \u001b[38;5;129m@functools\u001b[39m\u001b[38;5;241m.\u001b[39mwraps(func)\n\u001b[0;32m   1484\u001b[0m \u001b[38;5;28;01mdef\u001b[39;00m \u001b[38;5;21minner\u001b[39m(ax, \u001b[38;5;241m*\u001b[39margs, data\u001b[38;5;241m=\u001b[39m\u001b[38;5;28;01mNone\u001b[39;00m, \u001b[38;5;241m*\u001b[39m\u001b[38;5;241m*\u001b[39mkwargs):\n\u001b[0;32m   1485\u001b[0m     \u001b[38;5;28;01mif\u001b[39;00m data \u001b[38;5;129;01mis\u001b[39;00m \u001b[38;5;28;01mNone\u001b[39;00m:\n\u001b[1;32m-> 1486\u001b[0m         \u001b[38;5;28;01mreturn\u001b[39;00m func(\n\u001b[0;32m   1487\u001b[0m             ax,\n\u001b[0;32m   1488\u001b[0m             \u001b[38;5;241m*\u001b[39m\u001b[38;5;28mmap\u001b[39m(sanitize_sequence, args),\n\u001b[0;32m   1489\u001b[0m             \u001b[38;5;241m*\u001b[39m\u001b[38;5;241m*\u001b[39m{k: sanitize_sequence(v) \u001b[38;5;28;01mfor\u001b[39;00m k, v \u001b[38;5;129;01min\u001b[39;00m kwargs\u001b[38;5;241m.\u001b[39mitems()})\n\u001b[0;32m   1491\u001b[0m     bound \u001b[38;5;241m=\u001b[39m new_sig\u001b[38;5;241m.\u001b[39mbind(ax, \u001b[38;5;241m*\u001b[39margs, \u001b[38;5;241m*\u001b[39m\u001b[38;5;241m*\u001b[39mkwargs)\n\u001b[0;32m   1492\u001b[0m     auto_label \u001b[38;5;241m=\u001b[39m (bound\u001b[38;5;241m.\u001b[39marguments\u001b[38;5;241m.\u001b[39mget(label_namer)\n\u001b[0;32m   1493\u001b[0m                   \u001b[38;5;129;01mor\u001b[39;00m bound\u001b[38;5;241m.\u001b[39mkwargs\u001b[38;5;241m.\u001b[39mget(label_namer))\n",
      "File \u001b[1;32mc:\\Users\\Eris\\AppData\\Local\\Programs\\Python\\Python310\\lib\\site-packages\\matplotlib\\axes\\_axes.py:2591\u001b[0m, in \u001b[0;36mAxes.bar\u001b[1;34m(self, x, height, width, bottom, align, **kwargs)\u001b[0m\n\u001b[0;32m   2582\u001b[0m \u001b[38;5;28;01mfor\u001b[39;00m l, b, w, h, c, e, lw, htch, lbl \u001b[38;5;129;01min\u001b[39;00m args:\n\u001b[0;32m   2583\u001b[0m     r \u001b[38;5;241m=\u001b[39m mpatches\u001b[38;5;241m.\u001b[39mRectangle(\n\u001b[0;32m   2584\u001b[0m         xy\u001b[38;5;241m=\u001b[39m(l, b), width\u001b[38;5;241m=\u001b[39mw, height\u001b[38;5;241m=\u001b[39mh,\n\u001b[0;32m   2585\u001b[0m         facecolor\u001b[38;5;241m=\u001b[39mc,\n\u001b[1;32m   (...)\u001b[0m\n\u001b[0;32m   2589\u001b[0m         hatch\u001b[38;5;241m=\u001b[39mhtch,\n\u001b[0;32m   2590\u001b[0m         )\n\u001b[1;32m-> 2591\u001b[0m     \u001b[43mr\u001b[49m\u001b[38;5;241;43m.\u001b[39;49m\u001b[43m_internal_update\u001b[49m\u001b[43m(\u001b[49m\u001b[43mkwargs\u001b[49m\u001b[43m)\u001b[49m\n\u001b[0;32m   2592\u001b[0m     r\u001b[38;5;241m.\u001b[39mget_path()\u001b[38;5;241m.\u001b[39m_interpolation_steps \u001b[38;5;241m=\u001b[39m \u001b[38;5;241m100\u001b[39m\n\u001b[0;32m   2593\u001b[0m     \u001b[38;5;28;01mif\u001b[39;00m orientation \u001b[38;5;241m==\u001b[39m \u001b[38;5;124m'\u001b[39m\u001b[38;5;124mvertical\u001b[39m\u001b[38;5;124m'\u001b[39m:\n",
      "File \u001b[1;32mc:\\Users\\Eris\\AppData\\Local\\Programs\\Python\\Python310\\lib\\site-packages\\matplotlib\\artist.py:1216\u001b[0m, in \u001b[0;36mArtist._internal_update\u001b[1;34m(self, kwargs)\u001b[0m\n\u001b[0;32m   1209\u001b[0m \u001b[38;5;28;01mdef\u001b[39;00m \u001b[38;5;21m_internal_update\u001b[39m(\u001b[38;5;28mself\u001b[39m, kwargs):\n\u001b[0;32m   1210\u001b[0m \u001b[38;5;250m    \u001b[39m\u001b[38;5;124;03m\"\"\"\u001b[39;00m\n\u001b[0;32m   1211\u001b[0m \u001b[38;5;124;03m    Update artist properties without prenormalizing them, but generating\u001b[39;00m\n\u001b[0;32m   1212\u001b[0m \u001b[38;5;124;03m    errors as if calling `set`.\u001b[39;00m\n\u001b[0;32m   1213\u001b[0m \n\u001b[0;32m   1214\u001b[0m \u001b[38;5;124;03m    The lack of prenormalization is to maintain backcompatibility.\u001b[39;00m\n\u001b[0;32m   1215\u001b[0m \u001b[38;5;124;03m    \"\"\"\u001b[39;00m\n\u001b[1;32m-> 1216\u001b[0m     \u001b[38;5;28;01mreturn\u001b[39;00m \u001b[38;5;28;43mself\u001b[39;49m\u001b[38;5;241;43m.\u001b[39;49m\u001b[43m_update_props\u001b[49m\u001b[43m(\u001b[49m\n\u001b[0;32m   1217\u001b[0m \u001b[43m        \u001b[49m\u001b[43mkwargs\u001b[49m\u001b[43m,\u001b[49m\u001b[43m \u001b[49m\u001b[38;5;124;43m\"\u001b[39;49m\u001b[38;5;132;43;01m{cls.__name__}\u001b[39;49;00m\u001b[38;5;124;43m.set() got an unexpected keyword argument \u001b[39;49m\u001b[38;5;124;43m\"\u001b[39;49m\n\u001b[0;32m   1218\u001b[0m \u001b[43m        \u001b[49m\u001b[38;5;124;43m\"\u001b[39;49m\u001b[38;5;132;43;01m{prop_name!r}\u001b[39;49;00m\u001b[38;5;124;43m\"\u001b[39;49m\u001b[43m)\u001b[49m\n",
      "File \u001b[1;32mc:\\Users\\Eris\\AppData\\Local\\Programs\\Python\\Python310\\lib\\site-packages\\matplotlib\\artist.py:1190\u001b[0m, in \u001b[0;36mArtist._update_props\u001b[1;34m(self, props, errfmt)\u001b[0m\n\u001b[0;32m   1188\u001b[0m             func \u001b[38;5;241m=\u001b[39m \u001b[38;5;28mgetattr\u001b[39m(\u001b[38;5;28mself\u001b[39m, \u001b[38;5;124mf\u001b[39m\u001b[38;5;124m\"\u001b[39m\u001b[38;5;124mset_\u001b[39m\u001b[38;5;132;01m{\u001b[39;00mk\u001b[38;5;132;01m}\u001b[39;00m\u001b[38;5;124m\"\u001b[39m, \u001b[38;5;28;01mNone\u001b[39;00m)\n\u001b[0;32m   1189\u001b[0m             \u001b[38;5;28;01mif\u001b[39;00m \u001b[38;5;129;01mnot\u001b[39;00m \u001b[38;5;28mcallable\u001b[39m(func):\n\u001b[1;32m-> 1190\u001b[0m                 \u001b[38;5;28;01mraise\u001b[39;00m \u001b[38;5;167;01mAttributeError\u001b[39;00m(\n\u001b[0;32m   1191\u001b[0m                     errfmt\u001b[38;5;241m.\u001b[39mformat(\u001b[38;5;28mcls\u001b[39m\u001b[38;5;241m=\u001b[39m\u001b[38;5;28mtype\u001b[39m(\u001b[38;5;28mself\u001b[39m), prop_name\u001b[38;5;241m=\u001b[39mk))\n\u001b[0;32m   1192\u001b[0m             ret\u001b[38;5;241m.\u001b[39mappend(func(v))\n\u001b[0;32m   1193\u001b[0m \u001b[38;5;28;01mif\u001b[39;00m ret:\n",
      "\u001b[1;31mAttributeError\u001b[0m: Rectangle.set() got an unexpected keyword argument 'kind'"
     ]
    },
    {
     "data": {
      "image/png": "[encoded data removed]",
      "text/plain": [
       "<Figure size 800x500 with 1 Axes>"
      ]
     },
     "metadata": {},
     "output_type": "display_data"
    }
   ],
   "source": [
    "# Convertir valores de `resp` a binarios\n",
    "reviews['resp'] = reviews['resp'].notna().astype(int)\n",
    "\n",
    "plt.figure(figsize=(8, 5))\n",
    "sns.countplot(x='resp', data=reviews)\n",
    "plt.title('Frecuencia de Respuesta a Reseñas')\n",
    "plt.xlabel('Respuesta a la Reseña (1: Sí, 0: No)')\n",
    "plt.ylabel('Frecuencia')\n",
    "plt.show()"
   ]
  }
 ],
 "metadata": {
  "kernelspec": {
   "display_name": "Python 3",
   "language": "python",
   "name": "python3"
  },
  "language_info": {
   "codemirror_mode": {
    "name": "ipython",
    "version": 3
   },
   "file_extension": ".py",
   "mimetype": "text/x-python",
   "name": "python",
   "nbconvert_exporter": "python",
   "pygments_lexer": "ipython3",
   "version": "3.10.11"
  }
 },
 "nbformat": 4,
 "nbformat_minor": 2
}
