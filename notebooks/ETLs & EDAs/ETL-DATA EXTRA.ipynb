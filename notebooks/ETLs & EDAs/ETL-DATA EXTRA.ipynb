{
 "cells": [
  {
   "cell_type": "code",
   "execution_count": 2,
   "metadata": {},
   "outputs": [],
   "source": [
    "\n",
    "import pandas as pd\n",
    "import pyarrow as pa\n",
    "import pyarrow.parquet as pq\n",
    "import numpy as np\n",
    "import matplotlib.pylab as plt\n",
    "%matplotlib inline\n",
    "import matplotlib as mpl\n",
    "mpl.rcParams.update(mpl.rcParamsDefault)\n",
    "import os\n",
    "import json\n",
    "import ast"
   ]
  },
  {
   "cell_type": "code",
   "execution_count": 3,
   "metadata": {},
   "outputs": [],
   "source": [
    "restaurants_usa = pd.read_csv(r\"../../data/raw/web scrapping data/restaurants.csv\")\n",
    "restaurants_tampa = pd.read_parquet(r\"../../data/raw/yelp/bussines_processed.parquet\")\n"
   ]
  },
  {
   "cell_type": "code",
   "execution_count": 4,
   "metadata": {},
   "outputs": [],
   "source": [
    "# Para eliminar las columnas 'lat', 'lng' y 'zip_code'\n",
    "restaurants_usa.drop(columns=['lat', 'lng', 'zip_code'], inplace=True)"
   ]
  },
  {
   "cell_type": "code",
   "execution_count": 5,
   "metadata": {},
   "outputs": [],
   "source": [
    "restaurants_usa.drop(columns=['full_address','ratings','position','score' ], inplace=True)"
   ]
  },
  {
   "cell_type": "code",
   "execution_count": 6,
   "metadata": {},
   "outputs": [
    {
     "name": "stdout",
     "output_type": "stream",
     "text": [
      "          id                                            name  \\\n",
      "0          1               PJ Fresh (224 Daniel Payne Drive)   \n",
      "1          2                  J' ti`'z Smoothie-N-Coffee Bar   \n",
      "2          3  Philly Fresh Cheesesteaks (541-B Graymont Ave)   \n",
      "3          4         Papa Murphy's (1580 Montgomery Highway)   \n",
      "4          5                Nelson Brothers Cafe (17th St N)   \n",
      "...      ...                                             ...   \n",
      "63464  63465                           IHOP (4321 N 10th St)   \n",
      "63465  63466                       Feldman's - N 10th Street   \n",
      "63466  63467                           Feldman's - N 23rd St   \n",
      "63467  63468           Church's Chicken (620 S. 10th Street)   \n",
      "63468  63469                       7-Eleven (1600 S 23rd St)   \n",
      "\n",
      "                                                category price_range  \n",
      "0                          Burgers, American, Sandwiches           $  \n",
      "1       Coffee and Tea, Breakfast and Brunch, Bubble Tea         NaN  \n",
      "2             American, Cheesesteak, Sandwiches, Alcohol           $  \n",
      "3                                                  Pizza           $  \n",
      "4              Breakfast and Brunch, Burgers, Sandwiches         NaN  \n",
      "...                                                  ...         ...  \n",
      "63464  American, Breakfast and Brunch, burger, Comfor...           $  \n",
      "63465                                                NaN         NaN  \n",
      "63466                                                NaN         NaN  \n",
      "63467                            Fast Food, Family Meals           $  \n",
      "63468  Everyday Essentials, Convenience, Home &amp; P...           $  \n",
      "\n",
      "[63469 rows x 4 columns]\n"
     ]
    }
   ],
   "source": [
    "print(restaurants_usa)"
   ]
  },
  {
   "cell_type": "code",
   "execution_count": 7,
   "metadata": {},
   "outputs": [
    {
     "name": "stdout",
     "output_type": "stream",
     "text": [
      "          id                                            name  \\\n",
      "0          1               PJ Fresh (224 Daniel Payne Drive)   \n",
      "1          2                  J' ti`'z Smoothie-N-Coffee Bar   \n",
      "2          3  Philly Fresh Cheesesteaks (541-B Graymont Ave)   \n",
      "3          4         Papa Murphy's (1580 Montgomery Highway)   \n",
      "4          5                Nelson Brothers Cafe (17th St N)   \n",
      "...      ...                                             ...   \n",
      "63464  63465                           IHOP (4321 N 10th St)   \n",
      "63465  63466                       Feldman's - N 10th Street   \n",
      "63466  63467                           Feldman's - N 23rd St   \n",
      "63467  63468           Church's Chicken (620 S. 10th Street)   \n",
      "63468  63469                       7-Eleven (1600 S 23rd St)   \n",
      "\n",
      "                                                category price_range  \n",
      "0                          Burgers, American, Sandwiches           $  \n",
      "1       Coffee and Tea, Breakfast and Brunch, Bubble Tea         NaN  \n",
      "2             American, Cheesesteak, Sandwiches, Alcohol           $  \n",
      "3                                                  Pizza           $  \n",
      "4              Breakfast and Brunch, Burgers, Sandwiches         NaN  \n",
      "...                                                  ...         ...  \n",
      "63464  American, Breakfast and Brunch, burger, Comfor...           $  \n",
      "63465                                                NaN         NaN  \n",
      "63466                                                NaN         NaN  \n",
      "63467                            Fast Food, Family Meals           $  \n",
      "63468  Everyday Essentials, Convenience, Home &amp; P...           $  \n",
      "\n",
      "[63469 rows x 4 columns]\n"
     ]
    }
   ],
   "source": [
    "print(restaurants_usa)"
   ]
  },
  {
   "cell_type": "code",
   "execution_count": 8,
   "metadata": {},
   "outputs": [
    {
     "name": "stdout",
     "output_type": "stream",
     "text": [
      "Cantidad de restaurantes filtrados: 86\n"
     ]
    },
    {
     "data": {
      "text/html": [
       "<div>\n",
       "<style scoped>\n",
       "    .dataframe tbody tr th:only-of-type {\n",
       "        vertical-align: middle;\n",
       "    }\n",
       "\n",
       "    .dataframe tbody tr th {\n",
       "        vertical-align: top;\n",
       "    }\n",
       "\n",
       "    .dataframe thead th {\n",
       "        text-align: right;\n",
       "    }\n",
       "</style>\n",
       "<table border=\"1\" class=\"dataframe\">\n",
       "  <thead>\n",
       "    <tr style=\"text-align: right;\">\n",
       "      <th></th>\n",
       "      <th>id</th>\n",
       "      <th>name</th>\n",
       "      <th>category</th>\n",
       "      <th>price_range</th>\n",
       "    </tr>\n",
       "  </thead>\n",
       "  <tbody>\n",
       "    <tr>\n",
       "      <th>50</th>\n",
       "      <td>51</td>\n",
       "      <td>China 1</td>\n",
       "      <td>Chinese, Chicken, Noodles</td>\n",
       "      <td>NaN</td>\n",
       "    </tr>\n",
       "    <tr>\n",
       "      <th>1131</th>\n",
       "      <td>1132</td>\n",
       "      <td>Guadalajara Mexican Restaurant</td>\n",
       "      <td>Mexican, Latin American, New Mexican</td>\n",
       "      <td>$$</td>\n",
       "    </tr>\n",
       "    <tr>\n",
       "      <th>1925</th>\n",
       "      <td>1926</td>\n",
       "      <td>Hamburger Mary's</td>\n",
       "      <td>Burgers, Bar Food</td>\n",
       "      <td>$$</td>\n",
       "    </tr>\n",
       "    <tr>\n",
       "      <th>2778</th>\n",
       "      <td>2779</td>\n",
       "      <td>Subway</td>\n",
       "      <td>Sandwich, American</td>\n",
       "      <td>$</td>\n",
       "    </tr>\n",
       "    <tr>\n",
       "      <th>2803</th>\n",
       "      <td>2804</td>\n",
       "      <td>Jersey Mike's Subs</td>\n",
       "      <td>Sandwich, American, Comfort Food</td>\n",
       "      <td>$</td>\n",
       "    </tr>\n",
       "  </tbody>\n",
       "</table>\n",
       "</div>"
      ],
      "text/plain": [
       "        id                            name  \\\n",
       "50      51                         China 1   \n",
       "1131  1132  Guadalajara Mexican Restaurant   \n",
       "1925  1926                Hamburger Mary's   \n",
       "2778  2779                          Subway   \n",
       "2803  2804              Jersey Mike's Subs   \n",
       "\n",
       "                                  category price_range  \n",
       "50               Chinese, Chicken, Noodles         NaN  \n",
       "1131  Mexican, Latin American, New Mexican          $$  \n",
       "1925                     Burgers, Bar Food          $$  \n",
       "2778                    Sandwich, American           $  \n",
       "2803      Sandwich, American, Comfort Food           $  "
      ]
     },
     "execution_count": 8,
     "metadata": {},
     "output_type": "execute_result"
    }
   ],
   "source": [
    "# Obtener los nombres únicos de restaurantes en Tampa\n",
    "tampa_restaurants_names = restaurants_tampa['name'].unique()\n",
    "\n",
    "# Filtrar el dataset de USA por los nombres de Tampa\n",
    "filtered_restaurants_usa = restaurants_usa[restaurants_usa['name'].isin(tampa_restaurants_names)]\n",
    "\n",
    "# Verificar el resultado\n",
    "print(f\"Cantidad de restaurantes filtrados: {len(filtered_restaurants_usa)}\")\n",
    "filtered_restaurants_usa.head()\n"
   ]
  },
  {
   "cell_type": "code",
   "execution_count": 9,
   "metadata": {},
   "outputs": [
    {
     "name": "stderr",
     "output_type": "stream",
     "text": [
      "C:\\Users\\ElRonconZzZ\\AppData\\Local\\Temp\\ipykernel_25988\\1184419576.py:1: SettingWithCopyWarning: \n",
      "A value is trying to be set on a copy of a slice from a DataFrame.\n",
      "Try using .loc[row_indexer,col_indexer] = value instead\n",
      "\n",
      "See the caveats in the documentation: https://pandas.pydata.org/pandas-docs/stable/user_guide/indexing.html#returning-a-view-versus-a-copy\n",
      "  filtered_restaurants_usa['price_range'] = filtered_restaurants_usa['price_range'].fillna(0)\n"
     ]
    }
   ],
   "source": [
    "filtered_restaurants_usa['price_range'] = filtered_restaurants_usa['price_range'].fillna(0)\n"
   ]
  },
  {
   "cell_type": "code",
   "execution_count": 10,
   "metadata": {},
   "outputs": [
    {
     "name": "stderr",
     "output_type": "stream",
     "text": [
      "C:\\Users\\ElRonconZzZ\\AppData\\Local\\Temp\\ipykernel_25988\\1586876127.py:1: FutureWarning: Downcasting behavior in `replace` is deprecated and will be removed in a future version. To retain the old behavior, explicitly call `result.infer_objects(copy=False)`. To opt-in to the future behavior, set `pd.set_option('future.no_silent_downcasting', True)`\n",
      "  filtered_restaurants_usa['price_range'] = filtered_restaurants_usa['price_range'].replace({\n",
      "C:\\Users\\ElRonconZzZ\\AppData\\Local\\Temp\\ipykernel_25988\\1586876127.py:1: SettingWithCopyWarning: \n",
      "A value is trying to be set on a copy of a slice from a DataFrame.\n",
      "Try using .loc[row_indexer,col_indexer] = value instead\n",
      "\n",
      "See the caveats in the documentation: https://pandas.pydata.org/pandas-docs/stable/user_guide/indexing.html#returning-a-view-versus-a-copy\n",
      "  filtered_restaurants_usa['price_range'] = filtered_restaurants_usa['price_range'].replace({\n"
     ]
    }
   ],
   "source": [
    "filtered_restaurants_usa['price_range'] = filtered_restaurants_usa['price_range'].replace({\n",
    "    '$': 1,\n",
    "    '$$': 2,\n",
    "    '$$$': 3\n",
    "})"
   ]
  },
  {
   "cell_type": "code",
   "execution_count": 12,
   "metadata": {},
   "outputs": [
    {
     "name": "stdout",
     "output_type": "stream",
     "text": [
      "Dataset guardado correctamente en: ../../data/processed/web scrapping data/filtered_restaurants_usa.parquet\n"
     ]
    }
   ],
   "source": [
    "# Especificar la ruta de guardado\n",
    "output_path = r\"../../data/processed/web scrapping data/filtered_restaurants_usa.parquet\"\n",
    "\n",
    "# Guardar el dataset filtrado en formato Parquet\n",
    "filtered_restaurants_usa.to_parquet(output_path, index=False)\n",
    "\n",
    "print(f\"Dataset guardado correctamente en: {output_path}\")\n"
   ]
  }
 ],
 "metadata": {
  "kernelspec": {
   "display_name": "Python 3",
   "language": "python",
   "name": "python3"
  },
  "language_info": {
   "codemirror_mode": {
    "name": "ipython",
    "version": 3
   },
   "file_extension": ".py",
   "mimetype": "text/x-python",
   "name": "python",
   "nbconvert_exporter": "python",
   "pygments_lexer": "ipython3",
   "version": "3.12.7"
  }
 },
 "nbformat": 4,
 "nbformat_minor": 2
}
