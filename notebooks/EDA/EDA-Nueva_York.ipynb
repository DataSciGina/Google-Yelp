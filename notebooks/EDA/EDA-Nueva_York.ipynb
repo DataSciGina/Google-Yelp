{
 "cells": [
  {
   "cell_type": "markdown",
   "metadata": {},
   "source": [
    "# EDA - New York"
   ]
  },
  {
   "cell_type": "markdown",
   "metadata": {},
   "source": [
    "En este archivo se enfoca en realizar el EDA y el ETL de los archivos en el directorio `data/raw/reviews-estados/review-New_York`. El objetivo de este es unificar los 18 DataSets en un único DataFame, buscar insights principales, realizar limpieza, auditoría y transformaciones en los datos para finalmente exportarlos listos para llevarlos al siguiente proceso."
   ]
  },
  {
   "cell_type": "code",
   "execution_count": 18,
   "metadata": {},
   "outputs": [],
   "source": [
    "import pandas as pd\n",
    "import numpy as np\n",
    "import warnings\n",
    "import matplotlib.pyplot as plt\n",
    "import seaborn as sns\n",
    "import sys\n",
    "import os\n",
    "\n",
    "# Ignorar todas las advertencias\n",
    "warnings.filterwarnings(\"ignore\")"
   ]
  },
  {
   "cell_type": "code",
   "execution_count": 19,
   "metadata": {},
   "outputs": [
    {
     "ename": "ImportError",
     "evalue": "cannot import name 'merge_files' from 'src.utils.EDA' (d:\\Henry-DataScience\\LABS\\Proyecto Grupal\\Google-Yelp\\notebooks\\EDA\\../..\\src\\utils\\EDA.py)",
     "output_type": "error",
     "traceback": [
      "\u001b[1;31m---------------------------------------------------------------------------\u001b[0m",
      "\u001b[1;31mImportError\u001b[0m                               Traceback (most recent call last)",
      "Cell \u001b[1;32mIn[19], line 11\u001b[0m\n\u001b[0;32m      8\u001b[0m sys\u001b[38;5;241m.\u001b[39mpath\u001b[38;5;241m.\u001b[39mappend(project_root)\n\u001b[0;32m     10\u001b[0m \u001b[38;5;66;03m# importar librerías personalizadas de ./src/utils/EDA.py\u001b[39;00m\n\u001b[1;32m---> 11\u001b[0m \u001b[38;5;28;01mfrom\u001b[39;00m \u001b[38;5;21;01msrc\u001b[39;00m\u001b[38;5;21;01m.\u001b[39;00m\u001b[38;5;21;01mutils\u001b[39;00m\u001b[38;5;21;01m.\u001b[39;00m\u001b[38;5;21;01mEDA\u001b[39;00m \u001b[38;5;28;01mimport\u001b[39;00m get_frequency, merge_files\n",
      "\u001b[1;31mImportError\u001b[0m: cannot import name 'merge_files' from 'src.utils.EDA' (d:\\Henry-DataScience\\LABS\\Proyecto Grupal\\Google-Yelp\\notebooks\\EDA\\../..\\src\\utils\\EDA.py)"
     ]
    }
   ],
   "source": [
    "# Obtener el directorio de trabajo actual\n",
    "current_dir = os.getcwd()\n",
    "\n",
    "# Navegar hacia el directorio raíz del proyecto\n",
    "project_root = os.path.abspath(os.path.join(current_dir, '../..'))\n",
    "\n",
    "# Agregar la ruta del proyecto al sys.path\n",
    "sys.path.append(project_root)\n",
    "\n",
    "# importar librerías personalizadas de ./src/utils/EDA.py\n",
    "from src.utils.EDA import get_frequency, merge_files"
   ]
  },
  {
   "cell_type": "code",
   "execution_count": 15,
   "metadata": {},
   "outputs": [
    {
     "name": "stdout",
     "output_type": "stream",
     "text": [
      "Leyendo archivo: d:\\Henry-DataScience\\LABS\\Proyecto Grupal\\Google-Yelp\\data/raw/google_maps/reviews-estados/review-New_York\\1.parquet\n",
      "Archivo 1.parquet leído exitosamente con 150000 registros.\n",
      "Leyendo archivo: d:\\Henry-DataScience\\LABS\\Proyecto Grupal\\Google-Yelp\\data/raw/google_maps/reviews-estados/review-New_York\\10.parquet\n",
      "Archivo 10.parquet leído exitosamente con 150000 registros.\n",
      "Leyendo archivo: d:\\Henry-DataScience\\LABS\\Proyecto Grupal\\Google-Yelp\\data/raw/google_maps/reviews-estados/review-New_York\\11.parquet\n",
      "Archivo 11.parquet leído exitosamente con 150000 registros.\n",
      "Leyendo archivo: d:\\Henry-DataScience\\LABS\\Proyecto Grupal\\Google-Yelp\\data/raw/google_maps/reviews-estados/review-New_York\\12.parquet\n",
      "Archivo 12.parquet leído exitosamente con 150000 registros.\n",
      "Leyendo archivo: d:\\Henry-DataScience\\LABS\\Proyecto Grupal\\Google-Yelp\\data/raw/google_maps/reviews-estados/review-New_York\\13.parquet\n",
      "Archivo 13.parquet leído exitosamente con 150000 registros.\n",
      "Leyendo archivo: d:\\Henry-DataScience\\LABS\\Proyecto Grupal\\Google-Yelp\\data/raw/google_maps/reviews-estados/review-New_York\\14.parquet\n",
      "Archivo 14.parquet leído exitosamente con 150000 registros.\n",
      "Leyendo archivo: d:\\Henry-DataScience\\LABS\\Proyecto Grupal\\Google-Yelp\\data/raw/google_maps/reviews-estados/review-New_York\\15.parquet\n",
      "Archivo 15.parquet leído exitosamente con 150000 registros.\n",
      "Leyendo archivo: d:\\Henry-DataScience\\LABS\\Proyecto Grupal\\Google-Yelp\\data/raw/google_maps/reviews-estados/review-New_York\\16.parquet\n",
      "Archivo 16.parquet leído exitosamente con 150000 registros.\n",
      "Leyendo archivo: d:\\Henry-DataScience\\LABS\\Proyecto Grupal\\Google-Yelp\\data/raw/google_maps/reviews-estados/review-New_York\\17.parquet\n",
      "Archivo 17.parquet leído exitosamente con 150000 registros.\n",
      "Leyendo archivo: d:\\Henry-DataScience\\LABS\\Proyecto Grupal\\Google-Yelp\\data/raw/google_maps/reviews-estados/review-New_York\\18.parquet\n",
      "Archivo 18.parquet leído exitosamente con 150000 registros.\n",
      "Leyendo archivo: d:\\Henry-DataScience\\LABS\\Proyecto Grupal\\Google-Yelp\\data/raw/google_maps/reviews-estados/review-New_York\\2.parquet\n",
      "Archivo 2.parquet leído exitosamente con 150000 registros.\n",
      "Leyendo archivo: d:\\Henry-DataScience\\LABS\\Proyecto Grupal\\Google-Yelp\\data/raw/google_maps/reviews-estados/review-New_York\\3.parquet\n",
      "Archivo 3.parquet leído exitosamente con 150000 registros.\n",
      "Leyendo archivo: d:\\Henry-DataScience\\LABS\\Proyecto Grupal\\Google-Yelp\\data/raw/google_maps/reviews-estados/review-New_York\\4.parquet\n",
      "Archivo 4.parquet leído exitosamente con 150000 registros.\n",
      "Leyendo archivo: d:\\Henry-DataScience\\LABS\\Proyecto Grupal\\Google-Yelp\\data/raw/google_maps/reviews-estados/review-New_York\\5.parquet\n",
      "Archivo 5.parquet leído exitosamente con 150000 registros.\n",
      "Leyendo archivo: d:\\Henry-DataScience\\LABS\\Proyecto Grupal\\Google-Yelp\\data/raw/google_maps/reviews-estados/review-New_York\\6.parquet\n",
      "Archivo 6.parquet leído exitosamente con 150000 registros.\n",
      "Leyendo archivo: d:\\Henry-DataScience\\LABS\\Proyecto Grupal\\Google-Yelp\\data/raw/google_maps/reviews-estados/review-New_York\\7.parquet\n",
      "Archivo 7.parquet leído exitosamente con 150000 registros.\n",
      "Leyendo archivo: d:\\Henry-DataScience\\LABS\\Proyecto Grupal\\Google-Yelp\\data/raw/google_maps/reviews-estados/review-New_York\\8.parquet\n",
      "Archivo 8.parquet leído exitosamente con 150000 registros.\n",
      "Leyendo archivo: d:\\Henry-DataScience\\LABS\\Proyecto Grupal\\Google-Yelp\\data/raw/google_maps/reviews-estados/review-New_York\\9.parquet\n",
      "Archivo 9.parquet leído exitosamente con 150000 registros.\n",
      "Todos los archivos Parquet han sido unificados en un único DataFrame con 2700000 registros.\n"
     ]
    }
   ],
   "source": [
    "file_path = os.path.join(project_root, 'data/raw/google_maps/reviews-estados/review-New_York')\n",
    "df = merge_files(file_path)"
   ]
  },
  {
   "cell_type": "code",
   "execution_count": 16,
   "metadata": {},
   "outputs": [
    {
     "data": {
      "text/html": [
       "<div>\n",
       "<style scoped>\n",
       "    .dataframe tbody tr th:only-of-type {\n",
       "        vertical-align: middle;\n",
       "    }\n",
       "\n",
       "    .dataframe tbody tr th {\n",
       "        vertical-align: top;\n",
       "    }\n",
       "\n",
       "    .dataframe thead th {\n",
       "        text-align: right;\n",
       "    }\n",
       "</style>\n",
       "<table border=\"1\" class=\"dataframe\">\n",
       "  <thead>\n",
       "    <tr style=\"text-align: right;\">\n",
       "      <th></th>\n",
       "      <th>user_id</th>\n",
       "      <th>name</th>\n",
       "      <th>time</th>\n",
       "      <th>rating</th>\n",
       "      <th>text</th>\n",
       "      <th>pics</th>\n",
       "      <th>resp</th>\n",
       "      <th>gmap_id</th>\n",
       "    </tr>\n",
       "  </thead>\n",
       "  <tbody>\n",
       "    <tr>\n",
       "      <th>0</th>\n",
       "      <td>1.137221e+20</td>\n",
       "      <td>Alvin Martinez</td>\n",
       "      <td>1603494795361</td>\n",
       "      <td>5</td>\n",
       "      <td>I'm late to posting this but this store especi...</td>\n",
       "      <td>[{'url': ['https://lh5.googleusercontent.com/p...</td>\n",
       "      <td>None</td>\n",
       "      <td>0x89c25fc9494dce47:0x6d63c807b59a55</td>\n",
       "    </tr>\n",
       "    <tr>\n",
       "      <th>1</th>\n",
       "      <td>1.072934e+20</td>\n",
       "      <td>Johnnie Jackson</td>\n",
       "      <td>1620157037403</td>\n",
       "      <td>1</td>\n",
       "      <td>Very dissatisfied I did not get my phone the p...</td>\n",
       "      <td>None</td>\n",
       "      <td>{'text': 'We pride ourselves on providing an a...</td>\n",
       "      <td>0x89c25fc9494dce47:0x6d63c807b59a55</td>\n",
       "    </tr>\n",
       "    <tr>\n",
       "      <th>2</th>\n",
       "      <td>1.003786e+20</td>\n",
       "      <td>Manie Blazer</td>\n",
       "      <td>1597431662039</td>\n",
       "      <td>5</td>\n",
       "      <td>Excellent very well done with professional car...</td>\n",
       "      <td>None</td>\n",
       "      <td>None</td>\n",
       "      <td>0x89c25fc9494dce47:0x6d63c807b59a55</td>\n",
       "    </tr>\n",
       "  </tbody>\n",
       "</table>\n",
       "</div>"
      ],
      "text/plain": [
       "        user_id             name           time  rating  \\\n",
       "0  1.137221e+20   Alvin Martinez  1603494795361       5   \n",
       "1  1.072934e+20  Johnnie Jackson  1620157037403       1   \n",
       "2  1.003786e+20     Manie Blazer  1597431662039       5   \n",
       "\n",
       "                                                text  \\\n",
       "0  I'm late to posting this but this store especi...   \n",
       "1  Very dissatisfied I did not get my phone the p...   \n",
       "2  Excellent very well done with professional car...   \n",
       "\n",
       "                                                pics  \\\n",
       "0  [{'url': ['https://lh5.googleusercontent.com/p...   \n",
       "1                                               None   \n",
       "2                                               None   \n",
       "\n",
       "                                                resp  \\\n",
       "0                                               None   \n",
       "1  {'text': 'We pride ourselves on providing an a...   \n",
       "2                                               None   \n",
       "\n",
       "                               gmap_id  \n",
       "0  0x89c25fc9494dce47:0x6d63c807b59a55  \n",
       "1  0x89c25fc9494dce47:0x6d63c807b59a55  \n",
       "2  0x89c25fc9494dce47:0x6d63c807b59a55  "
      ]
     },
     "execution_count": 16,
     "metadata": {},
     "output_type": "execute_result"
    }
   ],
   "source": [
    "# se visualizan las primeras tres filas del dataframe\n",
    "df.head(3)"
   ]
  }
 ],
 "metadata": {
  "kernelspec": {
   "display_name": "Python 3",
   "language": "python",
   "name": "python3"
  },
  "language_info": {
   "codemirror_mode": {
    "name": "ipython",
    "version": 3
   },
   "file_extension": ".py",
   "mimetype": "text/x-python",
   "name": "python",
   "nbconvert_exporter": "python",
   "pygments_lexer": "ipython3",
   "version": "3.10.11"
  }
 },
 "nbformat": 4,
 "nbformat_minor": 2
}
